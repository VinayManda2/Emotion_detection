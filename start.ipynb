{
 "cells": [
  {
   "cell_type": "code",
   "execution_count": 4,
   "id": "b16d83f7",
   "metadata": {},
   "outputs": [
    {
     "name": "stdout",
     "output_type": "stream",
     "text": [
      "1/1 [==============================] - 0s 401ms/step\n"
     ]
    }
   ],
   "source": [
    "import tkinter as tk\n",
    "from tkinter import filedialog\n",
    "import numpy as np    \n",
    "import tensorflow as tf\n",
    "import os\n",
    "import librosa\n",
    "\n",
    "# Function to load the pre-trained model\n",
    "def load_model():\n",
    "    model = tf.keras.models.load_model('mymodel.h5')\n",
    "    return model\n",
    "\n",
    "# Function to extract MFCC features from an audio file\n",
    "def extract_mfcc(wav_file_name):\n",
    "    y, sr = librosa.load(wav_file_name)\n",
    "    mfccs = np.mean(librosa.feature.mfcc(y=y, sr=sr, n_mfcc=40).T, axis=0)\n",
    "    return mfccs\n",
    "\n",
    "# Function to predict the emotion from an audio file\n",
    "def predict_emotion(model, wav_filepath):\n",
    "    emotions = {1: 'neutral', 2: 'calm', 3: 'happy', 4: 'sad', 5: 'angry', 6: 'fearful', 7: 'disgust', 8: 'surprised'}\n",
    "    test_point = extract_mfcc(wav_filepath)\n",
    "    test_point = np.reshape(test_point, newshape=(1, 40, 1))\n",
    "    predictions = model.predict(test_point)\n",
    "    return emotions[np.argmax(predictions[0]) + 1]\n",
    "\n",
    "def browse_file():\n",
    "    filename = filedialog.askopenfilename(filetypes=[(\"WAV files\", \"*.wav\")])\n",
    "    if filename:\n",
    "        label.config(text=\"Selected file: \" + os.path.basename(filename))\n",
    "        audio_label.config(text=\"Playing audio...\")\n",
    "        audio_label.after(2000, lambda: audio_label.config(text=\"\"))\n",
    "\n",
    "        predicted_emotion = predict_emotion(model, filename)\n",
    "        result_label.config(text=\"Predicted emotion: \" + predicted_emotion)\n",
    "\n",
    "if __name__ == \"__main__\":\n",
    "    model = load_model()\n",
    "\n",
    "    root = tk.Tk()\n",
    "    root.title(\"Emotion Detection Using Audio\")\n",
    "\n",
    "    # Set the size of the window\n",
    "    root.geometry(\"400x250\")\n",
    "\n",
    "    heading_label = tk.Label(root, text=\"Emotion Detection Using Audio\", font=(\"Helvetica\", 16))\n",
    "    heading_label.pack(pady=10)\n",
    "\n",
    "    label = tk.Label(root, text=\"\")\n",
    "    label.pack()\n",
    "\n",
    "    browse_button = tk.Button(root, text=\"Browse\", command=browse_file)\n",
    "    browse_button.pack()\n",
    "\n",
    "    audio_label = tk.Label(root, text=\"\")\n",
    "    audio_label.pack()\n",
    "\n",
    "    result_label = tk.Label(root, text=\"\")\n",
    "    result_label.pack()\n",
    "\n",
    "    root.mainloop()\n"
   ]
  },
  {
   "cell_type": "code",
   "execution_count": null,
   "id": "cc5d4ae2",
   "metadata": {},
   "outputs": [],
   "source": []
  }
 ],
 "metadata": {
  "kernelspec": {
   "display_name": "Python 3 (ipykernel)",
   "language": "python",
   "name": "python3"
  },
  "language_info": {
   "codemirror_mode": {
    "name": "ipython",
    "version": 3
   },
   "file_extension": ".py",
   "mimetype": "text/x-python",
   "name": "python",
   "nbconvert_exporter": "python",
   "pygments_lexer": "ipython3",
   "version": "3.10.9"
  }
 },
 "nbformat": 4,
 "nbformat_minor": 5
}
